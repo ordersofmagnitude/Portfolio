{
 "cells": [
  {
   "cell_type": "markdown",
   "id": "8cc6bd72",
   "metadata": {},
   "source": [
    "# Whiskey price predictions: Feb 2022\n",
    "\n",
    "## Problem Statement\n",
    "\n",
    "People in the investment management industry are constantly looking for new sources of alpha. In recent times, family offices, asset managers & hedge funds in London have been seeking alpha in luxury wine and fine art. We are interested in knowing whether this can be applicable to the luxury whiskey market.\n",
    "\n",
    "Note: the project was completed on early Mar 2022 and revisited on 3rd Aug 2022.\n",
    "\n",
    "### Suggested improvements for the project:\n",
    "- A dynamically updating model is preferred for this project to ensure that live auction data stays up to date.\n",
    "- Model deployment."
   ]
  },
  {
   "cell_type": "markdown",
   "id": "77196164",
   "metadata": {},
   "source": [
    "## Univariate Time Series\n",
    "\n",
    "### Augmented Dickey Fuller: Stationarity\n",
    "\n",
    "#### Raw\n",
    "\n",
    "![adf_test_statistic.png](data/adf_test_statistic.png)\n",
    "\n",
    "#### Average (taking the average of OHLC data)\n",
    "\n",
    "![adf_average.png](data/adf_average.png)\n",
    "\n",
    "\n",
    "Using a p-value cutoff of 0.05, all prices were found to be stationary (p < 0.05), with the exceptions of Hibiki (average) and Yamazaki 18 (average), shown above. 2nd order differencing would be required to enforce stationary in these datasets, while first order differencing would be used for the rest.\n",
    "\n",
    "### Holt Winters Exponential Smoothing\n",
    "\n",
    "One of the first technical indicators that a trader performing old-school technical analysis is introduced to is the moving average. The moving average comes in several forms, including simple moving average, exponential moving average, and weighted moving average. The Holt-Winters Exponential Smoothing is a triple moving average function that performs smoothing and also checks for seasonality - the presence of cyclical trends in the data. A multiplicative model will be used because of the resilience of its results."
   ]
  },
  {
   "cell_type": "markdown",
   "id": "ffb53bec",
   "metadata": {},
   "source": [
    "## Multivariate Time Series\n",
    "\n",
    "### Granger's\n",
    "\n",
    "A granger's causality matrix was constructed with the following data:\n",
    "- OHLC prices of all 4 whiskeys\n",
    "- Bitcoin\n",
    "- Ethereum\n",
    "- Whiskey stocks\n",
    "\n",
    "If the p-value of the granger causality test is less than 0.05, we reject the null hypothesis that X does not granger cause Y. (This is a double negative. A p-value of less than 0.05 implies that X granger causes Y.)\n",
    "\n",
    "For Macallan high:\n",
    "- None of the variables granger cause Macallan high.\n",
    "- Yamazaki 25 bid and ethereum's OHLC prices granger cause Macallan's average price.\n",
    "\n",
    "For Hibiki:\n",
    "- Ethereum, Macallan bid and Yamazaki 25 bid granger causes Hibiki high.\n",
    "- Bitcoin volume and DEO volume granger causes Hibiki high.\n",
    "\n",
    "for Yamazaki 18 high:\n",
    "- Macallan average, Bitcoin OHLC + volume, Ethereum OHLC + volume and DEO OHLC + volume Granger causes it.\n",
    "\n",
    "Yamazaki 25:\n",
    "- cryptocurrencies (bitcoin + ethereum) OHLC data granger causes it.\n",
    "- Yamazaki 18 low granger causes yamazaki 25 high.\n",
    "\n",
    "#### Conclusions:\n",
    "- Interestingly, Bitcoin and Ethereum's OHLC data granger causes Yamazaki 18 and 25 high prices.\n",
    "- Only Ethereum granger causes Hibiki.\n",
    "\n",
    "### VAR\n",
    "\n",
    "VAR model was run for 4 whiskeys, bitcoin, ethereum, and whiskey stocks like DEO.\n",
    "\n",
    "Results:\n",
    "- For monthly data, VAR(1) is the best model (AIC = -1400)\n",
    "- For weekly data, VAR(10) yielded the best results, with an AIC of -1208.\n",
    "\n",
    "![var.png](data/var.png)\n",
    "\n",
    "### Durbin Watson (after VAR)\n",
    "\n",
    "![dw.png](data/dw.png)\n",
    "\n",
    "The Durbin-Watson test checks for autocorrelation between the residuals, or error terms of the autoregressive model. If the p-value < 1.5, positive autocorrelation between residuals is present; if the p-value > 2.5, negative autocorrelation between residuals is present.\n",
    "\n",
    "Checking and eliminating autocorrelation is pivotal because the f-statistic will be inflated under positive autocorrelation; and MSE and RMSE will be artificially lower, resulting in spurious results.\n",
    "\n",
    "Autocorrelation present in: macallan high and yamazaki 18 average\n"
   ]
  },
  {
   "cell_type": "markdown",
   "id": "f02acde7",
   "metadata": {},
   "source": [
    "## Results of 116 XGBR Models"
   ]
  },
  {
   "cell_type": "markdown",
   "id": "0919faa6",
   "metadata": {},
   "source": [
    "###  Best performing models (RMSE):\n",
    "\n",
    "![rmse.png](data/rmse.png)\n",
    "\n",
    "RMSE was used as the metric for model selection. The data transformation used was log price, followed by RobustScaler. Best models were the raw data for Macallan, Hibiki and Yamazaki 18, and the average data for Yamazaki 25, which produced an RMSE of 0.162.\n",
    "\n",
    "Hyperparameter tuning may be used to reduce overfitting, notably regularization and early stopping.\n",
    "\n",
    "\n",
    "### Discoveries\n",
    "Addition of time dummies and lagged data drastically worsened the predictability of Macallan prices (RMSE of 0.97 instead of the 0.289 shown here). This, along with the Granger causality matrix for Macallan high and average prices, suggests that past prices of other factors do not predict Macallan high prices, and that Macallan high prices may depend on other exogenous factors not accounted for by the model (eg. sentiment, hype). The branding and sentiment of the whiskey is likely to have greater influence over its price as compared to quantitative factors.\n",
    "\n",
    "For Hibiki, the addition of time dummies + lagged data caused a better performance than adding lagged data alone (best score for lagged data: 0.132, vs 0.1233 for time dummies) - suggesting that seasonality and other time factors may be pertinent in price determination/prediction. Further analysis will be elucidated under \"Feature Importances\".\n",
    "\n",
    "For Yamazaki 18, the addition of lagged data only performed better than time dummies + lagged data (0.2307 vs 0.2472).\n",
    "\n",
    "Note that for both Hibiki and Yamazaki 18, modelling raw data yielded the best RMSE results (0.0805 and 0.196 respectively)."
   ]
  },
  {
   "cell_type": "markdown",
   "id": "70f6dcbc",
   "metadata": {},
   "source": [
    "# Feature Importances & Hedonic Regression"
   ]
  },
  {
   "cell_type": "markdown",
   "id": "3e59a37a",
   "metadata": {},
   "source": [
    "### Visual interpretation\n",
    "\n",
    "#### Macallan"
   ]
  },
  {
   "cell_type": "markdown",
   "id": "eed01be4",
   "metadata": {},
   "source": [
    "![macallan_importances.png](data/macallan_importances.png)"
   ]
  },
  {
   "cell_type": "markdown",
   "id": "024b942b",
   "metadata": {},
   "source": [
    "#### Hibiki"
   ]
  },
  {
   "cell_type": "markdown",
   "id": "09a158d8",
   "metadata": {},
   "source": [
    "![hibiki_importances.png](data/hibiki_importances.png)"
   ]
  },
  {
   "cell_type": "markdown",
   "id": "b9a80ba9",
   "metadata": {},
   "source": [
    "#### Yamazaki 18"
   ]
  },
  {
   "cell_type": "markdown",
   "id": "5361ed29",
   "metadata": {},
   "source": [
    "![yamazaki_18_importances.png](data/yamazaki_18_importances.png)"
   ]
  },
  {
   "cell_type": "markdown",
   "id": "3ebaabf6",
   "metadata": {},
   "source": [
    "#### Yamazaki 25 "
   ]
  },
  {
   "cell_type": "markdown",
   "id": "01248a7a",
   "metadata": {},
   "source": [
    "![yamazaki_25_importances.png](data/yamazaki_25_importances.png)"
   ]
  },
  {
   "cell_type": "markdown",
   "id": "d8d40a85",
   "metadata": {},
   "source": [
    "According to the XGBoostRegression model, prices of each brand can be estimated using the following equations:\n",
    "\n",
    " - Macallan_price = 𝛽0 + 𝛽1lot + 𝛽2res + 𝛽3cask_type_sherry + 𝛽4 cask_type_sherry_wood + 𝛽5bottler_squaldron_malt + 𝛽6bottler_douglas_lang + 𝛽7bottler_squadron_malts_eigen + 𝛽8bottler_ wilson_and_morgan.\n",
    " - Hibiki_price = 𝛽0 + 𝛽1 age + 𝛽2res + 𝛽3date + 𝛽4quantity + 𝛽5lot+ 𝛽6bid + 𝛽7vintage\n",
    " - Yamazaki_18_price = 𝛽0 + 𝛽1ABV + 𝛽2res + 𝛽3vintage + 𝛽4date + 𝛽5bottler_official + 𝛽6lot + 𝛽7quantity + 𝛽8bid\n",
    " - Yamazaki_25_price = 𝛽0 + 𝛽1abv + 𝛽2Bottler_official + 𝛽3res + 𝛽4bid + 𝛽5 date"
   ]
  },
  {
   "cell_type": "markdown",
   "id": "37eb563c",
   "metadata": {},
   "source": [
    "# Time dummies"
   ]
  },
  {
   "cell_type": "markdown",
   "id": "95a242f1",
   "metadata": {},
   "source": [
    "![td_fi.png](data/td_fi.png)"
   ]
  },
  {
   "cell_type": "markdown",
   "id": "7e77031c",
   "metadata": {},
   "source": [
    "Seasonality found in Hibiki and Yamazaki:\n",
    "\n",
    "- month 4, 3 and 7 (April, March and July) are when Hibiki prices peak.\n",
    "- month 4 (April) is when Yamazaki 18 and Yamazaki 25 prices peak."
   ]
  },
  {
   "cell_type": "markdown",
   "id": "d137f5a1",
   "metadata": {},
   "source": [
    "## Investment recommendations"
   ]
  },
  {
   "cell_type": "markdown",
   "id": "1882d6a9",
   "metadata": {},
   "source": [
    "- Look into possible seasonal arbitrage opportunities for whiskeys.\n",
    "- According to HWES, Yamazaki 18 high prices are poised to increase further and that makes it a suitable investment.\n",
    "\n",
    "- Macallan prices will experience a correction from the peak of 80k at 2021 to a more reasonable price of 10k or 20k. The best strategy is to conduct short term seasonal arbitrage by obtaining Macallan at months where prices are expected to be lower (eg. July) and sell during months where its prices are expected to be higher (eg. December)."
   ]
  }
 ],
 "metadata": {
  "kernelspec": {
   "display_name": "Python 3 (ipykernel)",
   "language": "python",
   "name": "python3"
  },
  "language_info": {
   "codemirror_mode": {
    "name": "ipython",
    "version": 3
   },
   "file_extension": ".py",
   "mimetype": "text/x-python",
   "name": "python",
   "nbconvert_exporter": "python",
   "pygments_lexer": "ipython3",
   "version": "3.9.7"
  }
 },
 "nbformat": 4,
 "nbformat_minor": 5
}
