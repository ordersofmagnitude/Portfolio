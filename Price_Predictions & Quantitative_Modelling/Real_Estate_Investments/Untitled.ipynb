{
 "cells": [
  {
   "cell_type": "markdown",
   "id": "69207536",
   "metadata": {},
   "source": [
    "# Investment thesis\n",
    "\n",
    "Evaluation of whether the Ames Housing Market presents an attractive investment opportunity and which features to be considered when attempting real estate arbitrage.\n",
    "\n",
    "- note: valuation"
   ]
  },
  {
   "cell_type": "code",
   "execution_count": 1,
   "id": "88427697",
   "metadata": {},
   "outputs": [],
   "source": [
    "#imports\n",
    "\n",
    "import numpy as np\n",
    "import pandas as pd\n",
    "import seaborn as sns\n",
    "import matplotlib.pyplot as plt\n",
    "from scipy import stats\n",
    "\n",
    "from sklearn.model_selection import train_test_split, GridSearchCV\n",
    "from sklearn.preprocessing import OneHotEncoder, RobustScaler, PowerTransformer\n",
    "from sklearn.metrics import mean_squared_error, r2_score\n",
    "from sklearn.linear_model import Lasso, Ridge\n",
    "from scipy.special import boxcox1p\n",
    "from scipy.stats import boxcox_normmax\n",
    "from xgboost import XGBRegressor\n",
    "\n",
    "import statsmodels.stats.api as sms\n",
    "import statsmodels.regression.linear_model as smf\n",
    "\n",
    "import warnings\n",
    "warnings.filterwarnings(\"ignore\")"
   ]
  },
  {
   "cell_type": "code",
   "execution_count": 2,
   "id": "15a4a5bd",
   "metadata": {},
   "outputs": [],
   "source": [
    "train_boxcox = pd.read_csv(\"datasets/train_boxcox.csv\")\n",
    "id_ = train_boxcox[\"id\"]\n",
    "train_eng = pd.read_csv(\"datasets/train_engineered.csv\")\n",
    "y = train_eng[\"saleprice\"]"
   ]
  },
  {
   "cell_type": "code",
   "execution_count": 3,
   "id": "ea4e93ba",
   "metadata": {},
   "outputs": [],
   "source": [
    "train_boxcox.drop([\"Unnamed: 0\", \"id\"], axis = 1, inplace = True)"
   ]
  },
  {
   "cell_type": "code",
   "execution_count": 4,
   "id": "19cb982d",
   "metadata": {},
   "outputs": [],
   "source": [
    "def get_impt_features(models, x, y):\n",
    "    \n",
    "    '''gets feature importances/ coefficients of models and predicted values\n",
    "    returns them into 2 dataframes'''\n",
    "    \n",
    "    x_train, x_val, y_train, y_val = train_test_split(x, np.log(y), random_state = 42, shuffle = False)\n",
    "    \n",
    "    rs = RobustScaler()\n",
    "    x_train_rs = rs.fit_transform(x_train)\n",
    "    x_val_rs = rs.transform(x_val)\n",
    "    \n",
    "    results = pd.DataFrame()\n",
    "    \n",
    "    for name, model in models.items():\n",
    "        model.fit(x_train_rs, y_train)\n",
    "        \n",
    "        try:\n",
    "            importances = np.exp(model.coef_)\n",
    "            df_features = (\n",
    "                        pd.DataFrame(\n",
    "                            zip(x_train.columns, importances),\n",
    "                            columns=[name, f\"{name} Importance\"],\n",
    "                      )\n",
    "                        .sort_values(f\"{name} Importance\", ascending=False)\n",
    "                        .reset_index(drop=True)\n",
    "                    )\n",
    "            results = pd.concat([results, df_features], axis=1)\n",
    "\n",
    "        except:\n",
    "            pass\n",
    "        \n",
    "        try:\n",
    "            importances = np.exp(model.feature_importances_)\n",
    "            df_features = (\n",
    "                        pd.DataFrame(\n",
    "                            zip(x_train.columns, importances),\n",
    "                            columns=[name, f\"{name} Importance\"],\n",
    "                      )\n",
    "                        .sort_values(f\"{name} Importance\", ascending=False)\n",
    "                        .reset_index(drop=True)\n",
    "                    )\n",
    "            results = pd.concat([results, df_features], axis=1)\n",
    "\n",
    "        except:\n",
    "            pass\n",
    "        \n",
    "        \n",
    "    for name, model in models.items():\n",
    "        if name == \"XGBR\":\n",
    "            y_train_pred = model.predict(x_train_rs)\n",
    "            y_val_pred = model.predict(x_val_rs)\n",
    "    \n",
    "            x[\"saleprice_predicted\"] = np.exp(np.hstack((y_train_pred, y_val_pred)))\n",
    "            x[\"saleprice\"] = y\n",
    "    \n",
    "    #must you inverse transform before predicting?\n",
    "    \n",
    "    return results, x"
   ]
  },
  {
   "cell_type": "code",
   "execution_count": 5,
   "id": "83ce9f83",
   "metadata": {},
   "outputs": [],
   "source": [
    "ridge_best = Ridge(alpha= 3.5, max_iter= 10000000.0, random_state= 42)\n",
    "lasso_best = Lasso(alpha= 0.0002, max_iter= 10000000.0, random_state= 42)\n",
    "xgbr = XGBRegressor(gamma = 0.0, learning_rate = 0.1, max_depth = None, random_state = 42, reg_alpha = 1e-06)\n",
    "importances, dataset = get_impt_features({\"Ridge\": ridge_best, \"Lasso\": lasso_best, \"XGBR\": xgbr}, train_boxcox, y)"
   ]
  },
  {
   "cell_type": "code",
   "execution_count": 6,
   "id": "874ddf1d",
   "metadata": {},
   "outputs": [],
   "source": [
    "def barplotter(df, x_name, y_name, n):\n",
    "    \n",
    "    '''takes in input dataframe, name of x column, name of y column, and number of rows.\n",
    "    returns barchart.'''\n",
    "\n",
    "    bar = sns.catplot(x = x_name,\n",
    "                          y = y_name,\n",
    "                          data = df.head(n),\n",
    "                          kind = 'bar',\n",
    "                          height = 8,\n",
    "                          aspect = 2,\n",
    "                          palette = \"icefire\"\n",
    "                     )\n",
    "\n",
    "    plt.title('Coefficients', fontsize = 24)\n",
    "    plt.xlabel(\"Coefficients\", size = 20)\n",
    "    plt.ylabel(\"Features\", size = 20)\n",
    "    plt.show()\n",
    "       "
   ]
  },
  {
   "cell_type": "markdown",
   "id": "176cff84",
   "metadata": {},
   "source": [
    "# Valuation"
   ]
  },
  {
   "cell_type": "markdown",
   "id": "279a88f4",
   "metadata": {},
   "source": [
    "## Feature Importances"
   ]
  },
  {
   "cell_type": "markdown",
   "id": "d01cbb53",
   "metadata": {},
   "source": [
    "The feature importances ranking from the XGBRegressor model made the most sense - these are the predictors commonly thought to predict sales price, according to real estate experts and even common wisdom. This will be the model selected for valuation."
   ]
  },
  {
   "cell_type": "code",
   "execution_count": 7,
   "id": "c6ef35a6",
   "metadata": {},
   "outputs": [
    {
     "data": {
      "image/png": "[encoded data removed]",
      "text/plain": [
       "<Figure size 1152x576 with 1 Axes>"
      ]
     },
     "metadata": {
      "needs_background": "light"
     },
     "output_type": "display_data"
    }
   ],
   "source": [
    "barplotter(importances, \"XGBR Importance\", \"XGBR\", 20)"
   ]
  },
  {
   "cell_type": "markdown",
   "id": "40b40669",
   "metadata": {},
   "source": [
    "## Automated Valuation"
   ]
  },
  {
   "cell_type": "code",
   "execution_count": 8,
   "id": "fded134f",
   "metadata": {},
   "outputs": [],
   "source": [
    "def predictor(x, y, values):\n",
    "    x_train, x_val, y_train, y_val = train_test_split(x, np.log(y), random_state = 42, shuffle = False)\n",
    "    \n",
    "    rs = RobustScaler()\n",
    "    x_train_rs = rs.fit_transform(x_train)\n",
    "    x_val_rs = rs.transform(x_val)\n",
    "    \n",
    "    #boxcox, robust transform and log sale price\n",
    "    \n",
    "    xgbr = XGBRegressor(gamma = 0.0, learning_rate = 0.1, max_depth = None, random_state = 42, reg_alpha = 1e-06)\n",
    "    \n",
    "    #inverse transform first or exponentiate first?\n",
    "    \n",
    "    xgbr.fit(x_train_rs, y_train)\n",
    "    \n",
    "    if len(values) == 1:\n",
    "        price = xgbr.predict(values)\n",
    "        return price\n",
    "        \n",
    "    else:\n",
    "        prices = []\n",
    "        \n",
    "        for value in values:\n",
    "            price = xgbr.predict(value)\n",
    "            prices.append(price)\n",
    "    \n",
    "    return prices    "
   ]
  },
  {
   "cell_type": "markdown",
   "id": "0747a3f5",
   "metadata": {},
   "source": [
    "### Neighborhoods"
   ]
  },
  {
   "cell_type": "code",
   "execution_count": null,
   "id": "6b769a59",
   "metadata": {},
   "outputs": [],
   "source": [
    "def preprocessing(df):\n",
    "    \n",
    "    '''merges the neighborhood name columns for analysis. recall that neighborhood has been clustered'''\n",
    "    \n",
    "    df[\"id\"] = id_\n",
    "    \n",
    "    train_cleaned = pd.read_csv(\"datasets/train_cleaned.csv\")\n",
    "    train_cleaned.drop([328, 616, 960, 1147, 1885, 858, 761], axis = 0, inplace = True)\n",
    "    nbs = train_cleaned.filter([\"id\", \"neighborhood\"])\n",
    "    \n",
    "    df = df.merge(nbs, on = \"id\", how = \"right\")\n",
    "    \n",
    "    for col in [\"Unnamed: 0\", \"Unnamed: 0.1\", \"id\"]:\n",
    "        try:\n",
    "            df.drop(columns = col, axis = 1, inplace = True)\n",
    "        except KeyError:\n",
    "            pass\n",
    "   \n",
    "    df.rename(columns = {\"neighborhood_x\": \"nb_cluster\", \"neighborhood_y\": \"nb_name\"}, inplace = True)\n",
    "    df = df.reindex(sorted(df.columns), axis=1)\n",
    "    \n",
    "    impt = importances.head(20)\n",
    "    impt = impt[\"XGBR\"].values\n",
    "    \n",
    "    cols = set(impt) - set(\"neighborhood\")\n",
    "    cols.update({\"nb_cluster\", \"nb_name\", \"finished_house_area\"})\n",
    "    \n",
    "    df = df.filter(cols)\n",
    "    df[\"saleprice\"] = y\n",
    "    \n",
    "    return df"
   ]
  }
 ],
 "metadata": {
  "kernelspec": {
   "display_name": "Python 3 (ipykernel)",
   "language": "python",
   "name": "python3"
  },
  "language_info": {
   "codemirror_mode": {
    "name": "ipython",
    "version": 3
   },
   "file_extension": ".py",
   "mimetype": "text/x-python",
   "name": "python",
   "nbconvert_exporter": "python",
   "pygments_lexer": "ipython3",
   "version": "3.9.7"
  }
 },
 "nbformat": 4,
 "nbformat_minor": 5
}
