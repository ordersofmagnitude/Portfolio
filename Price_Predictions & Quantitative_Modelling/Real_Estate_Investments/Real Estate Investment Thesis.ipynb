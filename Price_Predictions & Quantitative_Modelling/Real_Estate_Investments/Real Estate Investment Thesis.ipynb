{
 "cells": [
  {
   "cell_type": "markdown",
   "id": "269c2462",
   "metadata": {},
   "source": [
    "# Real Estate Investment Thesis"
   ]
  },
  {
   "cell_type": "markdown",
   "id": "cbc8810c",
   "metadata": {},
   "source": [
    "## Problem Statement"
   ]
  },
  {
   "cell_type": "markdown",
   "id": "9c596fac",
   "metadata": {},
   "source": [
    "The CIO of your asset management company is interested in expanding the business and venturing into real estate flipping of undervalued houses in tier 3 cities. You are tasked with the job of building a model to predict the fair value of houses on well-known datasets such as the Ames, Iowa market and assess the type of renovations that would increase the value of the houses. Your CIO is interested in knowing whether this strategy will generate alpha (profit) and is worth pursuing."
   ]
  },
  {
   "cell_type": "markdown",
   "id": "88575ea7",
   "metadata": {},
   "source": [
    "## Background"
   ]
  },
  {
   "cell_type": "markdown",
   "id": "74146f83",
   "metadata": {},
   "source": [
    "When analysing real estate data, features must be divided into two categories: universal features and location-specific features.\n",
    "\n",
    "After speaking to real estate professionals, these features are deemed universal:\n",
    "- Neighborhood reputation: self-explanatory.\n",
    "- Age of the house - the era and decade it is constructed, and whether any significant historical events happen during that era (eg. the subprime mortgage crisis in 2008).\n",
    "- Features relating to the size of the house, such as ground living area, total area, and number of bedrooms.\n",
    "- Features relating to the quality of the house, especially the materials constructed and the foundation.\n",
    "\n",
    "There are also features specific to American suburban cities:\n",
    "- Kitchen quality: having a swanky kitchen is part of the American suburban dream. Americans celebrate traditions such as Thanksgiving with their friends and relatives; having a high quality kitchen allows one to be an excellent host.\n",
    "- Basement quality/condition: this is applicable to older American houses, as newer apartments do not have a basement. A large basement is highly desirable in American culture."
   ]
  },
  {
   "cell_type": "markdown",
   "id": "6a688b2a",
   "metadata": {},
   "source": [
    "## Methodology Summary\n",
    "\n",
    "![null_values](images/null_values.png)\n",
    "\n",
    "Columns with > 90% null values are excluded from the dataset, like alley, pool_qc, fence, misc_feature"
   ]
  },
  {
   "cell_type": "markdown",
   "id": "b3780a39",
   "metadata": {},
   "source": [
    "### Kruskal-Wallis Test"
   ]
  },
  {
   "cell_type": "markdown",
   "id": "70fefcf2",
   "metadata": {},
   "source": [
    "The Kruskal-Wallis test is the non-parametric version of the ANOVA test and is suitable for finding relationships between categorial features and a continuous feature (eg. sales price). The null hypothesis is that all the feature's categories have a similar median.\n",
    "\n",
    "If there are statistically significant differences between intragroup medians of the feature's categories, the feature may have some predictive power towards sales price.\n",
    "\n",
    "![kruskal1](images/kruskal1.png)\n",
    "![kruskal2](images/kruskal2.png)\n",
    "\n",
    "Results from the test suggest that most categorical features have predictive power, except utilities, street and ms zoning."
   ]
  },
  {
   "cell_type": "markdown",
   "id": "77d05f9f",
   "metadata": {},
   "source": [
    "## Numerical Variables - Tackling the Assumptions of Linear Regression"
   ]
  },
  {
   "cell_type": "markdown",
   "id": "b4c8e48a",
   "metadata": {},
   "source": [
    "Regression models have the following assumptions:\n",
    "\n",
    "1. Absence of outliers. Outliers are data which significantly buck the expected trend.\n",
    "2. Multivariate linearity: most features have a linear relationship with the target variable\n",
    "3. Multivariate normality: most features follow a normal distribution\n",
    "4. Absence of multicolinearity: correlation between variables must be reduced to a minimum.\n",
    "5. Homoscedascity of error terms.\n",
    "6. No autocorrelation. The last assumption is not applicable in this case because this is a time series data."
   ]
  },
  {
   "cell_type": "markdown",
   "id": "51a2c818",
   "metadata": {},
   "source": [
    "### 1. Outlier Removal"
   ]
  },
  {
   "cell_type": "markdown",
   "id": "fe646ca6",
   "metadata": {},
   "source": [
    "Regression models require the absence of outliers to work because it is a model using a mean reversion heuristic. A qualitative way to detect outliers would to use a scatterplot and to exclude them via brute force - identifying them by index and eliminating them from the dataset.\n",
    "\n",
    "Outliers identified: 328, 616, 960, 1147, 1885, 858, 761"
   ]
  },
  {
   "cell_type": "markdown",
   "id": "2a081d9c",
   "metadata": {},
   "source": [
    "### 2. Minimizing Multicolinearity"
   ]
  },
  {
   "cell_type": "markdown",
   "id": "21e2af1e",
   "metadata": {},
   "source": [
    "Spearman correlation is used instead of Pearson correlation because it is non-parametric and more suitable for a right-skewed dataset. \n",
    "\n",
    "![corrmatrix](images/corrmatrix.png)\n",
    "\n",
    "\n",
    "Feature engineering will be used to reduce multicolinearity. The following features are created:\n",
    "- Total baths: self explanatory\n",
    "- Total porch area: lot frontage + open porch sf + wood deck sf\n",
    "- Finished house area: bsmtfin sf + 1st flr sf + 2nd flr sf\n",
    "- Total house area: total basement sf + 1st flr sf + 2nd flr sf\n",
    "- House quality (by taking the weighted average of overall quality, overall condition, external quality, external condition and functional)."
   ]
  },
  {
   "cell_type": "markdown",
   "id": "f43eaae2",
   "metadata": {},
   "source": [
    "### 3. Multivariate Linearity"
   ]
  },
  {
   "cell_type": "markdown",
   "id": "c9d7214f",
   "metadata": {},
   "source": [
    "Log transformation of sales price enforces the 3rd assumption of regression: multivariate linearity. The Harvey Collier test is used to prove this assumption: as with all statistical tests, a predetermined cutoff is used, known as the alpha. If the calculated p-value is greater than the alpha cut-off of 0.05, the features are linearly related to the sales price.\n",
    "\n",
   ]
  },
  {
   "cell_type": "markdown",
   "id": "a9e64137",
   "metadata": {},
   "source": [
    "### 4. Multivariate Normality"
   ]
  },
  {
   "cell_type": "markdown",
   "id": "49108402",
   "metadata": {},
   "source": [
    "`scipy.stats.normaltest` shows that none of the features are normally distributed.\n",
    "\n",
    "Due to time constraints, `selected continuous predictors` such as `sales price`, `ground living area` and `1st floor square feet` will be modelled against other right skewed distributions, such as the lognormal distribution, gamma distribution, and Johnson SU using the Kolmogorov-Smirnov test. The Kolmogorov-Smirnov test is a statistical test that determines how closely a set of data fits a given statistical distribution. As with all statistical tests, a calculated p-value > 0.05 will indicate that the distribution is suitable for modelling the data.\n",
    "\n",
    "![johnson_su](images/johnson_su.png)\n",
    "\n",
    "Real estate price fits the Johnson SU distribution, which is better than the Lognormal distribution in modelling financial asset prices because of the inclusion of parameters like skew and kurtosis in the actual distribution calculation.\n",
    "\n",
    "![lognormal_dist](images/lognormal_dist.png)\n",
    "\n",
    "Gr Living Area: Log-normal Distribution\n",
    "\n",
    "![gamma_dist](images/gamma_dist.png)\n",
    "\n",
    "1st Floor SF: Gamma Distribution\n",
    "\n",
    "\n",
    "Technically, you can use individual transformers for each column: Johnson SU for price, gamma for 1st floor square feet, and log the ground living area. However, a consistent transformer needs to be used to ensure that the coefficients are comparable during the final analysis.\n",
    "\n",
    "![skew_reduction](images/skew_reduction.png)\n",
    "\n",
    "Box-cox transformation tackles the assumption of multivariate normality by skew reduction of right-skewed continuous features (skew > 0.5) such that their distribution conforms closer to that of a normal distribution."
   ]
  },
  {
   "cell_type": "markdown",
   "id": "d2e0fa14",
   "metadata": {},
   "source": [
    "# Modelling"
   ]
  },
  {
   "cell_type": "markdown",
   "id": "da6109d4",
   "metadata": {},
   "source": [
    "The original General Assembly (GA) project required the use of Lasso and Ridge regressor, but I also included XGBRegressor. RobustScaler was used instead of StandardScaler because it accounts better for outliers and is more suited for modelling a right-skewed distribution.\n",
    "\n",
    "\n",
    "[results]\n",
    "\n",
    "\n",
    "A few interesting findings:\n",
    "1. Using Kruskal-Wallis for categorical feature selection outperformed the brute force method of manually excluding unsuitable data (not shown) - dropping val RMSE from 0.128 (not shown) to the 0.10s shown here.\n",
    "\n",
    "2. Ridge & Lasso outperformed the more powerful XGBoostRegressor in terms of R2 and RMSE, presumbly because of box-cox and log transformation, which mainly tackled the assumptions of linear models but not that of XGBoostRegressor."
   ]
  },
  {
   "cell_type": "markdown",
   "id": "a7c74307",
   "metadata": {},
   "source": [
    "# Valuation"
   ]
  },
  {
   "cell_type": "markdown",
   "id": "00674b8c",
   "metadata": {},
   "source": [
    "Despite Ridge & Lasso outperforming XGBoostRegressor in terms of R2 and RMSE, XGBoostRegressor was selected as the model for valuation because the features extracted had more commercial value and will be used to identify potentially undervalued or overvalued properties for real estate arbitrage.\n",
    "\n",
    "![predicted_vs_actual](images/predicted_vs_actual.png)\n",
    "\n",
    "Predicted prices were quite effective in capturing the extremes of the dataset, making XGBoostRegressor suitable for valuation.\n",
    "\n",
    "![xgbr_feature_importances](images/xgbr_feature_importances.png)"
   ]
  },
  {
   "cell_type": "markdown",
   "id": "1217823a",
   "metadata": {},
   "source": [
    "From the graph, the features which appear to be most salient are the neighborhood, total house area, finished house area, and kitchen quality. Fireplaces, total baths, heating quality, and basement quality also appear to have moderate predictive value."
   ]
  },
  {
   "cell_type": "markdown",
   "id": "762c68f5",
   "metadata": {},
   "source": [
    "### Moderately Priced Neighborhoods"
   ]
  },
  {
   "cell_type": "markdown",
   "id": "c0fbbea1",
   "metadata": {},
   "source": [
    "#picture here\n",
    "\n",
    "NWAmes and ClearCr had a bigger total house area than the rest, but the average sales price for NWAmes is 194k and well below the average of other Tier 3 neighborhoods. There may be arbitrage opportunities present in NWAmes, especially if you upgrade the kitchen and heating quality (among the top 20 highest predictors)."
   ]
  },
  {
   "cell_type": "markdown",
   "id": "e85d6991",
   "metadata": {},
   "source": [
    "### The [Relatively] more expensive Neighborhoods"
   ]
  },
  {
   "cell_type": "markdown",
   "id": "14675a36",
   "metadata": {},
   "source": [
    "NoRidge houses appear to be undervalued - larger house area, more rooms, more baths and a larger 2nd floor for a cheaper sale price.\n",
    "\n",
    "An arbitrage opportunity may be present with NoRidge if the following renovations are conducted:\n",
    "- Upgrade the basement quality\n",
    "- Upgrade the kitchen quality"
   ]
  },
  {
   "cell_type": "markdown",
   "id": "4fa0bea6",
   "metadata": {},
   "source": [
    "### Most salient feature to remodel: Kitchen quality"
   ]
  },
  {
   "cell_type": "markdown",
   "id": "00999545",
   "metadata": {},
   "source": [
    "Kitchen quality significantly differed across neighborhood categories (feature importance = 1.072 according to XGBRegressor).\n",
    "- Mid range neighborhoods: 3.4-4\n",
    "- Expensive neighborhoods: 4.06-4.50\n",
    "\n",
    "In Notebook #1, kitchen quality presented with the 2nd lowest p-value from the Kruskal-Wallis test (p = 1.160121e-208), meaning that the association between kitchen quality and house prices is one of the highest. When considering house arbitrage opportunities, upgrading the kitchen of a house to Excellent presents the investor with one of the most attractive value increases, especially in moderately priced neighborhoods and the most expensive neighborhoods."
   ]
  },
  {
   "cell_type": "markdown",
   "id": "b07ca76f",
   "metadata": {},
   "source": [
    "# Conclusion"
   ]
  },
  {
   "cell_type": "markdown",
   "id": "6f158efd",
   "metadata": {},
   "source": [
    "In the absence of a catalyst, a mature and stagnating housing market like Ames is less likely to capture alpha as compared to fast-growing and rapidly developing economies, and is more suitable for investors utilizing a defensive or capital preservation strategy. In order to increase the alpha capture from this project, the following steps need to be considered:\n",
    "\n",
    "1. Expert evaluation on the costs of renovation (eg. personnel, material, administrative, taxes)\n",
    "2. Using the methodologies from this model (or similar methodologies) and developing a model for real estate investment in fast-growing and rapidly developing emerging economies."
   ]
  }
 ],
 "metadata": {
  "kernelspec": {
   "display_name": "Python 3 (ipykernel)",
   "language": "python",
   "name": "python3"
  },
  "language_info": {
   "codemirror_mode": {
    "name": "ipython",
    "version": 3
   },
   "file_extension": ".py",
   "mimetype": "text/x-python",
   "name": "python",
   "nbconvert_exporter": "python",
   "pygments_lexer": "ipython3",
   "version": "3.9.7"
  }
 },
 "nbformat": 4,
 "nbformat_minor": 5
}
