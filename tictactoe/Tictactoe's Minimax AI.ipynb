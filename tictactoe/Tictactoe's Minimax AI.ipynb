{
 "cells": [
  {
   "cell_type": "markdown",
   "id": "73375180",
   "metadata": {},
   "source": [
    "# Tictactoe's Minimax AI - Explanation"
   ]
  },
  {
   "cell_type": "markdown",
   "id": "8286de95",
   "metadata": {},
   "source": [
    "## Background"
   ]
  },
  {
   "cell_type": "markdown",
   "id": "8967d353",
   "metadata": {},
   "source": [
    "Similar to Nim, Tictactoe can be classified as a `combinatorial adversial game` which has a `finite` sequence of moves. \n",
    "\n",
    "Unlike a human, an AI is not able to utilize strategies such as forks to beat the game. In order to make the AI invincible, the AI would need to use adversarial search to calculate all possible opponent moves, and pick the best counter-move for that. The best algorithm for an unbeatable Tic-Tac-Toe AI is Minimax."
   ]
  },
  {
   "cell_type": "markdown",
   "id": "3d2cb2d4",
   "metadata": {},
   "source": [
    "## Minimax"
   ]
  },
  {
   "cell_type": "markdown",
   "id": "420105f2",
   "metadata": {},
   "source": [
    "In Tictactoe, if I am the X player, I will obtain a score of 1 if I win, and thus be called the maximizing player because my goal is to maximize the score. My opponent will obtain a score of -1 if they win, and will be called the minimizing player because their objective is to minimize the score.\n",
    "\n",
    "In order to play optimally, the maximizing player (myself) would have to consider O's objective - to minimize the score - and pick the move which maximizes the minimum score.\n",
    "Suppose this is the game board:\n",
    "\n",
    "![endgame](images/endgame.png)\n",
    "\n",
    "(Image courtesy of https://www.neverstopbuilding.com/blog/minimax).\n",
    "\n",
    "When I pick the optimal move - I will gain a score of 1 and be the winning player.\n",
    "\n",
    "If you look at Tictactoe from the perspective of my opponent. Suppose my opponent is an optimal player: he will pick the moves that minimize my score based on this decision tree:\n",
    "\n",
    "![o's_move_tree](images/o's_move_tree.png)\n",
    "\n",
    "If you generalize this algorithm:\n",
    "\n",
    "The `max_value` algorithm maximizes the minimum score by recursively calling the `min_value` algorithm, which recursively calls the `max_value` algorithm until the endgame is reached (either player wins or the game results in a draw). Both functions will be utilized in the `minimax` function."
   ]
  },
  {
   "cell_type": "code",
   "execution_count": null,
   "id": "2090136b",
   "metadata": {},
   "outputs": [],
   "source": [
    "def max_value(board):\n",
    "    \n",
    "    if terminal(board):\n",
    "        return utility(board), None\n",
    "    \n",
    "    value = -np.inf\n",
    "    action = None\n",
    "    for action in actions(board):\n",
    "        v, a = min_value(result(board, action))\n",
    "        print(v, a)\n",
    "        if v > value:\n",
    "            value = v\n",
    "            \n",
    "            if v == 1:\n",
    "                return value, action\n",
    "            \n",
    "    return value, action\n",
    "\n",
    "\n",
    "def min_value(board):\n",
    "    \n",
    "    if terminal(board):\n",
    "        return utility(board), None\n",
    "    \n",
    "    value = np.inf\n",
    "    action = None\n",
    "    for action in actions(board):\n",
    "        v, a = max_value(result(board, action))\n",
    "        print(v, a)\n",
    "        if v < value:\n",
    "            value = v\n",
    "            \n",
    "            if v == -1:\n",
    "                return value, action\n",
    "            \n",
    "    return value, action\n",
    "\n",
    "\n",
    "def minimax(board):\n",
    "    \"\"\"\n",
    "    Returns the optimal action for the current player on the board.\n",
    "    \"\"\"\n",
    "    \n",
    "    if terminal(board):\n",
    "        return None\n",
    "    \n",
    "    else:\n",
    "        if player(board) == \"X\":\n",
    "            value, action = max_value(board)\n",
    "            return action\n",
    "        else:\n",
    "            value, action = min_value(board)\n",
    "            return action"
   ]
  },
  {
   "cell_type": "markdown",
   "id": "978e338f",
   "metadata": {},
   "source": [
    "Courtesy of neverstopbuilding, there is an interesting quirk to this algorithm: he passed in a board where X would always win:\n",
    "\n",
    "![fatalism](images/fatalism.png)\n",
    "\n",
    "He expected that the algorithm would attempt to put up a fight and block the X player's immediate win. However, upon closer analysis, what he found was:\n",
    "\n",
    "![x_always_wins](images/x_always_wins.png)"
   ]
  },
  {
   "cell_type": "markdown",
   "id": "51f8a0c2",
   "metadata": {},
   "source": [
    "The algorithm had searched through the universe of moves and realized that every move in this universe resulted in a win for X. Even a world champion would lose in this case! As a result, the algorithm decided to be fatalistic and surrender quickly."
   ]
  },
  {
   "cell_type": "markdown",
   "id": "ea5f1aec",
   "metadata": {},
   "source": [
    "# Conclusion & Further Steps"
   ]
  },
  {
   "cell_type": "markdown",
   "id": "45d70948",
   "metadata": {},
   "source": [
    "The algorithm can be further optimized by alpha-beta pruning, which will be part of the next project."
   ]
  }
 ],
 "metadata": {
  "kernelspec": {
   "display_name": "Python 3 (ipykernel)",
   "language": "python",
   "name": "python3"
  },
  "language_info": {
   "codemirror_mode": {
    "name": "ipython",
    "version": 3
   },
   "file_extension": ".py",
   "mimetype": "text/x-python",
   "name": "python",
   "nbconvert_exporter": "python",
   "pygments_lexer": "ipython3",
   "version": "3.9.7"
  }
 },
 "nbformat": 4,
 "nbformat_minor": 5
}
